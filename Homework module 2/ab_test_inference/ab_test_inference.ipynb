{
 "cells": [
  {
   "attachments": {},
   "cell_type": "markdown",
   "metadata": {
    "collapsed": false
   },
   "source": [
    "\n",
    "# Задание:\n",
    "----\n",
    "\n",
    "<br>\n",
    "\n",
    "Вам предоставлен анонимизированные результаты **реального A/B тестирования**, проходившего когда-то в нашем отделе (`ab_test_ensembles.csv`). В тесте было два варианта работы сервиса - `standard` и `svm_ensemble_v_1_22`, где работали несколько моделей классификации для целей сервиса.\n",
    "\n",
    "<br>\n",
    "\n",
    "\n",
    "------\n",
    "Вам, как специалистам по машинному обучению предстоит ответить на **2 главных вопроса:**\n",
    "\n",
    "1. Стоит ли нам оставить старый вариант работы сервиса или заменить его на вариант работы с моделями классификации (используем всю выборку 200к+ пользователей).\n",
    "2. Кроме того, посчитайте вывод для типа пользователей (`user_type`). Стоит ли для новых (старых) пользователей оставить старый (новый) вариант работы сервиса.\n",
    "\n",
    "\n",
    "<br>\n",
    "\n",
    "Для того, чтобы освежить в памяти процесс тестирования статистических гипотез, непомню, что тестирование состоит из следующих частей:\n",
    "1. Дизайн эксперимента.\n",
    "2. Подготовка и запуск эксперимента.\n",
    "3. Сбор данных и аналитика полученных данных.\n",
    "4. Визуализация результатов тестирования.\n",
    "5. Тестирование гипотез.\n",
    "6. Вывод и интерпритация результатов.\n",
    "\n",
    "-----\n",
    "\n",
    "#### Критерии оценки задания:\n",
    "\n",
    "1. **Первое, что будет проверяться - вывод полученных результатов**, в случае если выводы сделаны не правильно, задание считается проваленным и на этом этап проверки заканчивается (пропускаются этапы код-ревью, оформления и визуализации, качество кода).\n",
    "2. В случае если результаты и интерпритация результатов оказались верны, проводится код-ревью и проверка этапа визуализаций, поиск проблемных точек, точек роста.\n",
    "3. **Максимальный балл** который можно получить, выполнив текущее задание: **2 балла за 1 вопрос, 2 балла за 2 вопрос и 1 балл за эффективный и аккуратный код.\n",
    "\n",
    "\n",
    "Удачи, примените все свои навыки, которые вам доступны на данный момент и покажите на что вы способны!"
   ]
  },
  {
   "attachments": {},
   "cell_type": "markdown",
   "metadata": {},
   "source": [
    "#### Import required modules"
   ]
  },
  {
   "cell_type": "code",
   "execution_count": 1,
   "metadata": {
    "collapsed": false
   },
   "outputs": [],
   "source": [
    "import pandas as pd\n",
    "import numpy as np\n",
    "import matplotlib.pyplot as plt\n",
    "import sklearn\n"
   ]
  },
  {
   "cell_type": "code",
   "execution_count": 2,
   "metadata": {},
   "outputs": [
    {
     "data": {
      "text/plain": [
       "Index(['user_id', 'timestamp', 'group', 'variants', 'converted', 'location',\n",
       "       'age_group', 'user_type'],\n",
       "      dtype='object')"
      ]
     },
     "execution_count": 2,
     "metadata": {},
     "output_type": "execute_result"
    }
   ],
   "source": [
    "df = pd.read_csv('ab_test_ensembles.csv')\n",
    "df.columns"
   ]
  },
  {
   "attachments": {},
   "cell_type": "markdown",
   "metadata": {},
   "source": [
    "Look at info and check for null values"
   ]
  },
  {
   "cell_type": "code",
   "execution_count": 3,
   "metadata": {},
   "outputs": [
    {
     "name": "stdout",
     "output_type": "stream",
     "text": [
      "<class 'pandas.core.frame.DataFrame'>\n",
      "RangeIndex: 294478 entries, 0 to 294477\n",
      "Data columns (total 8 columns):\n",
      " #   Column     Non-Null Count   Dtype \n",
      "---  ------     --------------   ----- \n",
      " 0   user_id    294478 non-null  object\n",
      " 1   timestamp  294478 non-null  object\n",
      " 2   group      294478 non-null  object\n",
      " 3   variants   294478 non-null  object\n",
      " 4   converted  294478 non-null  int64 \n",
      " 5   location   294478 non-null  object\n",
      " 6   age_group  294478 non-null  object\n",
      " 7   user_type  294478 non-null  object\n",
      "dtypes: int64(1), object(7)\n",
      "memory usage: 18.0+ MB\n",
      "None\n"
     ]
    },
    {
     "data": {
      "text/plain": [
       "user_id  timestamp  group  variants  converted  location  age_group  user_type\n",
       "False    False      False  False     False      False     False      False        294478\n",
       "Name: count, dtype: int64"
      ]
     },
     "execution_count": 3,
     "metadata": {},
     "output_type": "execute_result"
    }
   ],
   "source": [
    "print(df.info())\n",
    "df['variants'].value_counts()\n",
    "df.isnull().value_counts()"
   ]
  },
  {
   "cell_type": "code",
   "execution_count": 4,
   "metadata": {},
   "outputs": [
    {
     "data": {
      "text/html": [
       "<div>\n",
       "<style scoped>\n",
       "    .dataframe tbody tr th:only-of-type {\n",
       "        vertical-align: middle;\n",
       "    }\n",
       "\n",
       "    .dataframe tbody tr th {\n",
       "        vertical-align: top;\n",
       "    }\n",
       "\n",
       "    .dataframe thead th {\n",
       "        text-align: right;\n",
       "    }\n",
       "</style>\n",
       "<table border=\"1\" class=\"dataframe\">\n",
       "  <thead>\n",
       "    <tr style=\"text-align: right;\">\n",
       "      <th></th>\n",
       "      <th>user_id</th>\n",
       "      <th>timestamp</th>\n",
       "      <th>group</th>\n",
       "      <th>variants</th>\n",
       "      <th>converted</th>\n",
       "      <th>location</th>\n",
       "      <th>age_group</th>\n",
       "      <th>user_type</th>\n",
       "    </tr>\n",
       "  </thead>\n",
       "  <tbody>\n",
       "    <tr>\n",
       "      <th>0</th>\n",
       "      <td>9109b0dc-d393-497f-8d63-ba9a25dd16b4</td>\n",
       "      <td>2022-05-21 22:11:48.556739</td>\n",
       "      <td>control</td>\n",
       "      <td>standard</td>\n",
       "      <td>0</td>\n",
       "      <td>United Kingdom</td>\n",
       "      <td>18-25</td>\n",
       "      <td>registered_user</td>\n",
       "    </tr>\n",
       "    <tr>\n",
       "      <th>1</th>\n",
       "      <td>2430c3d2-f75b-4b31-8271-51b6a76c2652</td>\n",
       "      <td>2022-05-12 08:01:45.159739</td>\n",
       "      <td>control</td>\n",
       "      <td>standard</td>\n",
       "      <td>0</td>\n",
       "      <td>United Kingdom</td>\n",
       "      <td>42-49</td>\n",
       "      <td>registered_user</td>\n",
       "    </tr>\n",
       "    <tr>\n",
       "      <th>2</th>\n",
       "      <td>44788c4e-8dd2-4fad-b986-75e76f4adb64</td>\n",
       "      <td>2022-05-11 16:55:06.154213</td>\n",
       "      <td>treatment</td>\n",
       "      <td>svm_ensemble_v_1_22</td>\n",
       "      <td>0</td>\n",
       "      <td>United Kingdom</td>\n",
       "      <td>26-33</td>\n",
       "      <td>new_user</td>\n",
       "    </tr>\n",
       "    <tr>\n",
       "      <th>3</th>\n",
       "      <td>4699a417-506d-41b8-a354-6af6ad576963</td>\n",
       "      <td>2022-05-08 18:28:03.143765</td>\n",
       "      <td>treatment</td>\n",
       "      <td>svm_ensemble_v_1_22</td>\n",
       "      <td>0</td>\n",
       "      <td>United Kingdom</td>\n",
       "      <td>42-49</td>\n",
       "      <td>registered_user</td>\n",
       "    </tr>\n",
       "    <tr>\n",
       "      <th>4</th>\n",
       "      <td>304b0d28-bcdf-401a-9dff-66230d3ba0bc</td>\n",
       "      <td>2022-05-21 01:52:26.210827</td>\n",
       "      <td>control</td>\n",
       "      <td>standard</td>\n",
       "      <td>1</td>\n",
       "      <td>United Kingdom</td>\n",
       "      <td>42-49</td>\n",
       "      <td>registered_user</td>\n",
       "    </tr>\n",
       "  </tbody>\n",
       "</table>\n",
       "</div>"
      ],
      "text/plain": [
       "                                user_id                   timestamp  \\\n",
       "0  9109b0dc-d393-497f-8d63-ba9a25dd16b4  2022-05-21 22:11:48.556739   \n",
       "1  2430c3d2-f75b-4b31-8271-51b6a76c2652  2022-05-12 08:01:45.159739   \n",
       "2  44788c4e-8dd2-4fad-b986-75e76f4adb64  2022-05-11 16:55:06.154213   \n",
       "3  4699a417-506d-41b8-a354-6af6ad576963  2022-05-08 18:28:03.143765   \n",
       "4  304b0d28-bcdf-401a-9dff-66230d3ba0bc  2022-05-21 01:52:26.210827   \n",
       "\n",
       "       group             variants  converted        location age_group  \\\n",
       "0    control             standard          0  United Kingdom     18-25   \n",
       "1    control             standard          0  United Kingdom     42-49   \n",
       "2  treatment  svm_ensemble_v_1_22          0  United Kingdom     26-33   \n",
       "3  treatment  svm_ensemble_v_1_22          0  United Kingdom     42-49   \n",
       "4    control             standard          1  United Kingdom     42-49   \n",
       "\n",
       "         user_type  \n",
       "0  registered_user  \n",
       "1  registered_user  \n",
       "2         new_user  \n",
       "3  registered_user  \n",
       "4  registered_user  "
      ]
     },
     "execution_count": 4,
     "metadata": {},
     "output_type": "execute_result"
    }
   ],
   "source": [
    "df.head(5)"
   ]
  },
  {
   "attachments": {},
   "cell_type": "markdown",
   "metadata": {},
   "source": [
    "As i can see we have clear, balanced dataset. \n",
    "The ony thing i want to do is to delete users which has contradictions\n",
    "between 'group' and 'variants' columns because this data could be wrong.\n",
    "And 'converted' could be transformed to \"bool\" datatype"
   ]
  },
  {
   "cell_type": "code",
   "execution_count": 5,
   "metadata": {},
   "outputs": [
    {
     "data": {
      "text/html": [
       "<div>\n",
       "<style scoped>\n",
       "    .dataframe tbody tr th:only-of-type {\n",
       "        vertical-align: middle;\n",
       "    }\n",
       "\n",
       "    .dataframe tbody tr th {\n",
       "        vertical-align: top;\n",
       "    }\n",
       "\n",
       "    .dataframe thead th {\n",
       "        text-align: right;\n",
       "    }\n",
       "</style>\n",
       "<table border=\"1\" class=\"dataframe\">\n",
       "  <thead>\n",
       "    <tr style=\"text-align: right;\">\n",
       "      <th></th>\n",
       "      <th>user_id</th>\n",
       "      <th>timestamp</th>\n",
       "      <th>group</th>\n",
       "      <th>variants</th>\n",
       "      <th>converted</th>\n",
       "      <th>location</th>\n",
       "      <th>age_group</th>\n",
       "      <th>user_type</th>\n",
       "    </tr>\n",
       "  </thead>\n",
       "  <tbody>\n",
       "    <tr>\n",
       "      <th>0</th>\n",
       "      <td>9109b0dc-d393-497f-8d63-ba9a25dd16b4</td>\n",
       "      <td>2022-05-21 22:11:48.556739</td>\n",
       "      <td>control</td>\n",
       "      <td>standard</td>\n",
       "      <td>False</td>\n",
       "      <td>United Kingdom</td>\n",
       "      <td>18-25</td>\n",
       "      <td>registered_user</td>\n",
       "    </tr>\n",
       "    <tr>\n",
       "      <th>1</th>\n",
       "      <td>2430c3d2-f75b-4b31-8271-51b6a76c2652</td>\n",
       "      <td>2022-05-12 08:01:45.159739</td>\n",
       "      <td>control</td>\n",
       "      <td>standard</td>\n",
       "      <td>False</td>\n",
       "      <td>United Kingdom</td>\n",
       "      <td>42-49</td>\n",
       "      <td>registered_user</td>\n",
       "    </tr>\n",
       "    <tr>\n",
       "      <th>2</th>\n",
       "      <td>44788c4e-8dd2-4fad-b986-75e76f4adb64</td>\n",
       "      <td>2022-05-11 16:55:06.154213</td>\n",
       "      <td>treatment</td>\n",
       "      <td>svm_ensemble_v_1_22</td>\n",
       "      <td>False</td>\n",
       "      <td>United Kingdom</td>\n",
       "      <td>26-33</td>\n",
       "      <td>new_user</td>\n",
       "    </tr>\n",
       "    <tr>\n",
       "      <th>3</th>\n",
       "      <td>4699a417-506d-41b8-a354-6af6ad576963</td>\n",
       "      <td>2022-05-08 18:28:03.143765</td>\n",
       "      <td>treatment</td>\n",
       "      <td>svm_ensemble_v_1_22</td>\n",
       "      <td>False</td>\n",
       "      <td>United Kingdom</td>\n",
       "      <td>42-49</td>\n",
       "      <td>registered_user</td>\n",
       "    </tr>\n",
       "    <tr>\n",
       "      <th>4</th>\n",
       "      <td>304b0d28-bcdf-401a-9dff-66230d3ba0bc</td>\n",
       "      <td>2022-05-21 01:52:26.210827</td>\n",
       "      <td>control</td>\n",
       "      <td>standard</td>\n",
       "      <td>True</td>\n",
       "      <td>United Kingdom</td>\n",
       "      <td>42-49</td>\n",
       "      <td>registered_user</td>\n",
       "    </tr>\n",
       "  </tbody>\n",
       "</table>\n",
       "</div>"
      ],
      "text/plain": [
       "                                user_id                   timestamp  \\\n",
       "0  9109b0dc-d393-497f-8d63-ba9a25dd16b4  2022-05-21 22:11:48.556739   \n",
       "1  2430c3d2-f75b-4b31-8271-51b6a76c2652  2022-05-12 08:01:45.159739   \n",
       "2  44788c4e-8dd2-4fad-b986-75e76f4adb64  2022-05-11 16:55:06.154213   \n",
       "3  4699a417-506d-41b8-a354-6af6ad576963  2022-05-08 18:28:03.143765   \n",
       "4  304b0d28-bcdf-401a-9dff-66230d3ba0bc  2022-05-21 01:52:26.210827   \n",
       "\n",
       "       group             variants  converted        location age_group  \\\n",
       "0    control             standard      False  United Kingdom     18-25   \n",
       "1    control             standard      False  United Kingdom     42-49   \n",
       "2  treatment  svm_ensemble_v_1_22      False  United Kingdom     26-33   \n",
       "3  treatment  svm_ensemble_v_1_22      False  United Kingdom     42-49   \n",
       "4    control             standard       True  United Kingdom     42-49   \n",
       "\n",
       "         user_type  \n",
       "0  registered_user  \n",
       "1  registered_user  \n",
       "2         new_user  \n",
       "3  registered_user  \n",
       "4  registered_user  "
      ]
     },
     "execution_count": 5,
     "metadata": {},
     "output_type": "execute_result"
    }
   ],
   "source": [
    "df['converted'] = df['converted'].astype(bool)\n",
    "sub_df = df[(df['variants'] == 'svm_ensemble_v_1_22') & \n",
    "        (df['group'] == 'treatment') |\n",
    "        (df['variants'] == 'standard') &\n",
    "        (df['group'] == 'control')\n",
    "        ]\n",
    "df.head(5)"
   ]
  },
  {
   "attachments": {},
   "cell_type": "markdown",
   "metadata": {},
   "source": [
    "Now dataset is ready to be dealt with.\n",
    "Let's look at converted values for each group"
   ]
  },
  {
   "cell_type": "code",
   "execution_count": 6,
   "metadata": {},
   "outputs": [
    {
     "data": {
      "text/html": [
       "<div>\n",
       "<style scoped>\n",
       "    .dataframe tbody tr th:only-of-type {\n",
       "        vertical-align: middle;\n",
       "    }\n",
       "\n",
       "    .dataframe tbody tr th {\n",
       "        vertical-align: top;\n",
       "    }\n",
       "\n",
       "    .dataframe thead th {\n",
       "        text-align: right;\n",
       "    }\n",
       "</style>\n",
       "<table border=\"1\" class=\"dataframe\">\n",
       "  <thead>\n",
       "    <tr style=\"text-align: right;\">\n",
       "      <th>converted</th>\n",
       "      <th>False</th>\n",
       "      <th>True</th>\n",
       "    </tr>\n",
       "    <tr>\n",
       "      <th>group</th>\n",
       "      <th></th>\n",
       "      <th></th>\n",
       "    </tr>\n",
       "  </thead>\n",
       "  <tbody>\n",
       "    <tr>\n",
       "      <th>control</th>\n",
       "      <td>127785</td>\n",
       "      <td>17489</td>\n",
       "    </tr>\n",
       "    <tr>\n",
       "      <th>treatment</th>\n",
       "      <td>128047</td>\n",
       "      <td>17264</td>\n",
       "    </tr>\n",
       "  </tbody>\n",
       "</table>\n",
       "</div>"
      ],
      "text/plain": [
       "converted   False  True \n",
       "group                   \n",
       "control    127785  17489\n",
       "treatment  128047  17264"
      ]
     },
     "execution_count": 6,
     "metadata": {},
     "output_type": "execute_result"
    }
   ],
   "source": [
    "df = sub_df\n",
    "df.reset_index(inplace=True, drop=True)\n",
    "df.head(2)\n",
    "pd.crosstab(df[\"group\"], df[\"converted\"])"
   ]
  },
  {
   "cell_type": "code",
   "execution_count": 7,
   "metadata": {},
   "outputs": [],
   "source": [
    "from scipy.stats import chi2_contingency\n",
    "\n",
    "def chi2_con_test(data):\n",
    "    chi2, p, dof, ex = chi2_contingency(data)\n",
    "    alpha = 0.05\n",
    "\n",
    "    print('p=%.4f , alpha=%.2f '%(p,alpha))\n",
    "    if p > alpha:\n",
    "        print('Two verisions have no significant difference')\n",
    "    else:\n",
    "        print('Two verisions have a significant difference')"
   ]
  },
  {
   "cell_type": "code",
   "execution_count": 8,
   "metadata": {},
   "outputs": [
    {
     "data": {
      "text/html": [
       "<div>\n",
       "<style scoped>\n",
       "    .dataframe tbody tr th:only-of-type {\n",
       "        vertical-align: middle;\n",
       "    }\n",
       "\n",
       "    .dataframe tbody tr th {\n",
       "        vertical-align: top;\n",
       "    }\n",
       "\n",
       "    .dataframe thead th {\n",
       "        text-align: right;\n",
       "    }\n",
       "</style>\n",
       "<table border=\"1\" class=\"dataframe\">\n",
       "  <thead>\n",
       "    <tr style=\"text-align: right;\">\n",
       "      <th>converted</th>\n",
       "      <th>False</th>\n",
       "      <th>True</th>\n",
       "    </tr>\n",
       "    <tr>\n",
       "      <th>group</th>\n",
       "      <th></th>\n",
       "      <th></th>\n",
       "    </tr>\n",
       "  </thead>\n",
       "  <tbody>\n",
       "    <tr>\n",
       "      <th>control</th>\n",
       "      <td>127785</td>\n",
       "      <td>17489</td>\n",
       "    </tr>\n",
       "    <tr>\n",
       "      <th>treatment</th>\n",
       "      <td>128047</td>\n",
       "      <td>17264</td>\n",
       "    </tr>\n",
       "  </tbody>\n",
       "</table>\n",
       "</div>"
      ],
      "text/plain": [
       "converted   False  True \n",
       "group                   \n",
       "control    127785  17489\n",
       "treatment  128047  17264"
      ]
     },
     "execution_count": 8,
     "metadata": {},
     "output_type": "execute_result"
    }
   ],
   "source": [
    "cross_table = pd.crosstab(df[\"group\"], df[\"converted\"])\n",
    "cross_table"
   ]
  },
  {
   "cell_type": "code",
   "execution_count": 9,
   "metadata": {},
   "outputs": [
    {
     "name": "stdout",
     "output_type": "stream",
     "text": [
      "p=0.1916 , alpha=0.05 \n",
      "Two verisions have no significant difference\n"
     ]
    }
   ],
   "source": [
    "chi2_con_test(cross_table)"
   ]
  },
  {
   "attachments": {},
   "cell_type": "markdown",
   "metadata": {},
   "source": [
    "In global populatuion svm_ensemble_v_1_22 has no statisticaly meanful influence on conversion"
   ]
  },
  {
   "attachments": {},
   "cell_type": "markdown",
   "metadata": {},
   "source": [
    "### User type split"
   ]
  },
  {
   "attachments": {},
   "cell_type": "markdown",
   "metadata": {},
   "source": [
    "split data set into two for each user type"
   ]
  },
  {
   "cell_type": "code",
   "execution_count": 10,
   "metadata": {},
   "outputs": [],
   "source": [
    "df_old = df[df['user_type'] == 'registered_user']\n",
    "df_new = df[df['user_type'] == 'new_user']"
   ]
  },
  {
   "attachments": {},
   "cell_type": "markdown",
   "metadata": {},
   "source": [
    "Make a cross table for each subdataset"
   ]
  },
  {
   "cell_type": "code",
   "execution_count": 16,
   "metadata": {},
   "outputs": [
    {
     "data": {
      "text/html": [
       "<div>\n",
       "<style scoped>\n",
       "    .dataframe tbody tr th:only-of-type {\n",
       "        vertical-align: middle;\n",
       "    }\n",
       "\n",
       "    .dataframe tbody tr th {\n",
       "        vertical-align: top;\n",
       "    }\n",
       "\n",
       "    .dataframe thead th {\n",
       "        text-align: right;\n",
       "    }\n",
       "</style>\n",
       "<table border=\"1\" class=\"dataframe\">\n",
       "  <thead>\n",
       "    <tr style=\"text-align: right;\">\n",
       "      <th>converted</th>\n",
       "      <th>False</th>\n",
       "      <th>True</th>\n",
       "    </tr>\n",
       "    <tr>\n",
       "      <th>group</th>\n",
       "      <th></th>\n",
       "      <th></th>\n",
       "    </tr>\n",
       "  </thead>\n",
       "  <tbody>\n",
       "    <tr>\n",
       "      <th>control</th>\n",
       "      <td>63991</td>\n",
       "      <td>8800</td>\n",
       "    </tr>\n",
       "    <tr>\n",
       "      <th>treatment</th>\n",
       "      <td>63978</td>\n",
       "      <td>8504</td>\n",
       "    </tr>\n",
       "  </tbody>\n",
       "</table>\n",
       "</div>"
      ],
      "text/plain": [
       "converted  False  True \n",
       "group                  \n",
       "control    63991   8800\n",
       "treatment  63978   8504"
      ]
     },
     "execution_count": 16,
     "metadata": {},
     "output_type": "execute_result"
    }
   ],
   "source": [
    "cross_table_old = pd.crosstab(df_old[\"group\"], df_old[\"converted\"])\n",
    "cross_table_new = pd.crosstab(df_new[\"group\"], df_new[\"converted\"])\n",
    "cross_table_new\n"
   ]
  },
  {
   "attachments": {},
   "cell_type": "markdown",
   "metadata": {},
   "source": [
    "Make chi squared test for each group"
   ]
  },
  {
   "cell_type": "code",
   "execution_count": 12,
   "metadata": {},
   "outputs": [
    {
     "name": "stdout",
     "output_type": "stream",
     "text": [
      "results of chi^2 test for old users:\n",
      "\n",
      "p=0.8184 , alpha=0.05 \n",
      "Two verisions have no significant difference\n",
      "**************************************************\n",
      "results of chi^2 test for new users:\n",
      "\n",
      "p=0.0365 , alpha=0.05 \n",
      "Two verisions have a significant difference\n"
     ]
    }
   ],
   "source": [
    "print('results of chi^2 test for old users:\\n')\n",
    "chi2_con_test(cross_table_old)\n",
    "print('*'*50)\n",
    "print('results of chi^2 test for new users:\\n')\n",
    "chi2_con_test(cross_table_new)"
   ]
  },
  {
   "attachments": {},
   "cell_type": "markdown",
   "metadata": {},
   "source": [
    "Seems like svm_ensemble_v_1_22 has signifiant influence on new users\n",
    "Lets look at this influence"
   ]
  },
  {
   "cell_type": "code",
   "execution_count": 13,
   "metadata": {},
   "outputs": [
    {
     "data": {
      "text/html": [
       "<div>\n",
       "<style scoped>\n",
       "    .dataframe tbody tr th:only-of-type {\n",
       "        vertical-align: middle;\n",
       "    }\n",
       "\n",
       "    .dataframe tbody tr th {\n",
       "        vertical-align: top;\n",
       "    }\n",
       "\n",
       "    .dataframe thead th {\n",
       "        text-align: right;\n",
       "    }\n",
       "</style>\n",
       "<table border=\"1\" class=\"dataframe\">\n",
       "  <thead>\n",
       "    <tr style=\"text-align: right;\">\n",
       "      <th></th>\n",
       "      <th>converted</th>\n",
       "    </tr>\n",
       "    <tr>\n",
       "      <th>group</th>\n",
       "      <th></th>\n",
       "    </tr>\n",
       "  </thead>\n",
       "  <tbody>\n",
       "    <tr>\n",
       "      <th>control</th>\n",
       "      <td>0.120894</td>\n",
       "    </tr>\n",
       "    <tr>\n",
       "      <th>treatment</th>\n",
       "      <td>0.117326</td>\n",
       "    </tr>\n",
       "  </tbody>\n",
       "</table>\n",
       "</div>"
      ],
      "text/plain": [
       "           converted\n",
       "group               \n",
       "control     0.120894\n",
       "treatment   0.117326"
      ]
     },
     "execution_count": 13,
     "metadata": {},
     "output_type": "execute_result"
    }
   ],
   "source": [
    "df_new.groupby('group').agg(converted =('converted', 'mean'))"
   ]
  },
  {
   "attachments": {},
   "cell_type": "markdown",
   "metadata": {},
   "source": [
    "Well, influence on new players conversion is negative, which means that we better not to launch\n",
    "svm_ensemble_v_1_22 in production at this moment"
   ]
  },
  {
   "cell_type": "code",
   "execution_count": 91,
   "metadata": {},
   "outputs": [
    {
     "data": {
      "text/plain": [
       "<BarContainer object of 2 artists>"
      ]
     },
     "execution_count": 91,
     "metadata": {},
     "output_type": "execute_result"
    },
    {
     "data": {
      "image/png": "[encoded data removed]",
      "text/plain": [
       "<Figure size 500x500 with 1 Axes>"
      ]
     },
     "metadata": {},
     "output_type": "display_data"
    }
   ],
   "source": [
    "cross_table_new.loc['control']\n",
    "fig = plt.figure(figsize=(5, 5,))\n",
    "plt.ylim(8000, 9000)\n",
    "plt.title('conversion for new users')\n",
    "plt.bar(cross_table_new.index,cross_table_new[True],width=0.5)"
   ]
  }
 ],
 "metadata": {
  "kernelspec": {
   "display_name": "Python 3",
   "language": "python",
   "name": "python3"
  },
  "language_info": {
   "codemirror_mode": {
    "name": "ipython",
    "version": 3
   },
   "file_extension": ".py",
   "mimetype": "text/x-python",
   "name": "python",
   "nbconvert_exporter": "python",
   "pygments_lexer": "ipython3",
   "version": "3.10.6"
  }
 },
 "nbformat": 4,
 "nbformat_minor": 0
}
