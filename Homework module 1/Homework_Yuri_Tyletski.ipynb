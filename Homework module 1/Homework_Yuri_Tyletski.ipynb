{
 "cells": [
  {
   "attachments": {},
   "cell_type": "markdown",
   "metadata": {
    "collapsed": false
   },
   "source": [
    "## Практическое домашнее задание на проверку знаний по модулю 1.\n",
    "\n",
    "\n",
    "##### Тема тестирования - базовый эксплоративный анализ и аналитическое мышление. Вам будет предоставлен датасет и 25 вопросов касаемо данного датасета. Ваша задача - подумать как найти ответы на поставленные вопросы ниже. За каждый правильно оформленный и предоставленный ответ начисляется *4 балла*.\n",
    "\n",
    "#### Ответ на решение присылать ссылкой на ваш гитхаб репозиторий на почту maratmovlamov2017@gmail.com\n",
    "\n",
    "#### Сроки выполнения практического домашнего задания - ровно 7 календарных дней (168 часов) с момента публикации в группе. Прошу приступать к решению задач порционно. Прошу повторить дополнительные материалы, предоставленные в качестве самостоятельного изучения в конце презентаций, они вам понадобятся.\n",
    "\n",
    "\n",
    "\n",
    "#### Критерии оценки присланного решения:\n",
    "\n",
    "* Правильность полученного ответа - на каждый поставленный вопрос есть один и только один правильный ответ. В случае неправильного ответа на поставленный вопрос, предоставленный ответ на него считается проваленным, даже если код написан правильно и красиво. Общее количество баллов, которые можно получить ответив на все вопросы верно - 25 * 4 = 100 баллов, которые шкалируются к 10-ти бальной шкале.\n",
    "\n",
    "___\n",
    "\n",
    "* Аккуратность, правильность и читаемость кода - старайтесь писать код без повторного использования методов и ненужных переменных (помните про принцип DRY - don't repeat yourself). Плюсом будет, если ваш код будет упакован в лаконичную и красиво написанную функцию. Если вся работа выполненна аккуратно, без спагетти кода, к общему результату работы начисляется 1 балл.\n",
    "\n",
    "---\n",
    "\n",
    "* На предоставленные вопросы, дописывается комментарий для проверки вашего мышления и поиска ответа в виде Markdown комментария. В случае если комментарий на поставленный вопрос не предоставлен снимается 0.1 балл за каждый такой вопрос. То есть общий штраф за отсутсвие комментариев по всем вопросам 25 * -0.1 =  -2.5 балла.\n",
    "\n",
    "\n",
    "#### Удачи и да прибудет с Вами сила :)\n",
    "\n"
   ]
  },
  {
   "cell_type": "code",
   "execution_count": 2,
   "metadata": {
    "ExecuteTime": {
     "end_time": "2023-05-22T09:51:30.639118200Z",
     "start_time": "2023-05-22T09:51:30.360510500Z"
    },
    "collapsed": false
   },
   "outputs": [],
   "source": [
    "import pandas as pd\n",
    "import numpy as np"
   ]
  },
  {
   "cell_type": "code",
   "execution_count": 3,
   "metadata": {
    "ExecuteTime": {
     "end_time": "2023-05-22T09:51:31.599273500Z",
     "start_time": "2023-05-22T09:51:31.113968400Z"
    },
    "collapsed": false
   },
   "outputs": [],
   "source": [
    "df = pd.read_csv(\"./dataset/Spotify_Youtube.csv\")"
   ]
  },
  {
   "cell_type": "code",
   "execution_count": 4,
   "metadata": {
    "ExecuteTime": {
     "end_time": "2023-05-22T09:51:32.243645600Z",
     "start_time": "2023-05-22T09:51:32.227638100Z"
    },
    "collapsed": false
   },
   "outputs": [
    {
     "data": {
      "text/html": [
       "<div>\n",
       "<style scoped>\n",
       "    .dataframe tbody tr th:only-of-type {\n",
       "        vertical-align: middle;\n",
       "    }\n",
       "\n",
       "    .dataframe tbody tr th {\n",
       "        vertical-align: top;\n",
       "    }\n",
       "\n",
       "    .dataframe thead th {\n",
       "        text-align: right;\n",
       "    }\n",
       "</style>\n",
       "<table border=\"1\" class=\"dataframe\">\n",
       "  <thead>\n",
       "    <tr style=\"text-align: right;\">\n",
       "      <th></th>\n",
       "      <th>Unnamed: 0</th>\n",
       "      <th>Artist</th>\n",
       "      <th>Url_spotify</th>\n",
       "      <th>Track</th>\n",
       "      <th>Album</th>\n",
       "      <th>Album_type</th>\n",
       "      <th>Uri</th>\n",
       "      <th>Danceability</th>\n",
       "      <th>Energy</th>\n",
       "      <th>Key</th>\n",
       "      <th>...</th>\n",
       "      <th>Url_youtube</th>\n",
       "      <th>Title</th>\n",
       "      <th>Channel</th>\n",
       "      <th>Views</th>\n",
       "      <th>Likes</th>\n",
       "      <th>Comments</th>\n",
       "      <th>Description</th>\n",
       "      <th>Licensed</th>\n",
       "      <th>official_video</th>\n",
       "      <th>Stream</th>\n",
       "    </tr>\n",
       "  </thead>\n",
       "  <tbody>\n",
       "    <tr>\n",
       "      <th>0</th>\n",
       "      <td>0</td>\n",
       "      <td>Gorillaz</td>\n",
       "      <td>https://open.spotify.com/artist/3AA28KZvwAUcZu...</td>\n",
       "      <td>Feel Good Inc.</td>\n",
       "      <td>Demon Days</td>\n",
       "      <td>album</td>\n",
       "      <td>spotify:track:0d28khcov6AiegSCpG5TuT</td>\n",
       "      <td>0.818</td>\n",
       "      <td>0.705</td>\n",
       "      <td>6.0</td>\n",
       "      <td>...</td>\n",
       "      <td>https://www.youtube.com/watch?v=HyHNuVaZJ-k</td>\n",
       "      <td>Gorillaz - Feel Good Inc. (Official Video)</td>\n",
       "      <td>Gorillaz</td>\n",
       "      <td>693555221.0</td>\n",
       "      <td>6220896.0</td>\n",
       "      <td>169907.0</td>\n",
       "      <td>Official HD Video for Gorillaz' fantastic trac...</td>\n",
       "      <td>True</td>\n",
       "      <td>True</td>\n",
       "      <td>1.040235e+09</td>\n",
       "    </tr>\n",
       "    <tr>\n",
       "      <th>1</th>\n",
       "      <td>1</td>\n",
       "      <td>Gorillaz</td>\n",
       "      <td>https://open.spotify.com/artist/3AA28KZvwAUcZu...</td>\n",
       "      <td>Rhinestone Eyes</td>\n",
       "      <td>Plastic Beach</td>\n",
       "      <td>album</td>\n",
       "      <td>spotify:track:1foMv2HQwfQ2vntFf9HFeG</td>\n",
       "      <td>0.676</td>\n",
       "      <td>0.703</td>\n",
       "      <td>8.0</td>\n",
       "      <td>...</td>\n",
       "      <td>https://www.youtube.com/watch?v=yYDmaexVHic</td>\n",
       "      <td>Gorillaz - Rhinestone Eyes [Storyboard Film] (...</td>\n",
       "      <td>Gorillaz</td>\n",
       "      <td>72011645.0</td>\n",
       "      <td>1079128.0</td>\n",
       "      <td>31003.0</td>\n",
       "      <td>The official video for Gorillaz - Rhinestone E...</td>\n",
       "      <td>True</td>\n",
       "      <td>True</td>\n",
       "      <td>3.100837e+08</td>\n",
       "    </tr>\n",
       "    <tr>\n",
       "      <th>2</th>\n",
       "      <td>2</td>\n",
       "      <td>Gorillaz</td>\n",
       "      <td>https://open.spotify.com/artist/3AA28KZvwAUcZu...</td>\n",
       "      <td>New Gold (feat. Tame Impala and Bootie Brown)</td>\n",
       "      <td>New Gold (feat. Tame Impala and Bootie Brown)</td>\n",
       "      <td>single</td>\n",
       "      <td>spotify:track:64dLd6rVqDLtkXFYrEUHIU</td>\n",
       "      <td>0.695</td>\n",
       "      <td>0.923</td>\n",
       "      <td>1.0</td>\n",
       "      <td>...</td>\n",
       "      <td>https://www.youtube.com/watch?v=qJa-VFwPpYA</td>\n",
       "      <td>Gorillaz - New Gold ft. Tame Impala &amp; Bootie B...</td>\n",
       "      <td>Gorillaz</td>\n",
       "      <td>8435055.0</td>\n",
       "      <td>282142.0</td>\n",
       "      <td>7399.0</td>\n",
       "      <td>Gorillaz - New Gold ft. Tame Impala &amp; Bootie B...</td>\n",
       "      <td>True</td>\n",
       "      <td>True</td>\n",
       "      <td>6.306347e+07</td>\n",
       "    </tr>\n",
       "    <tr>\n",
       "      <th>3</th>\n",
       "      <td>3</td>\n",
       "      <td>Gorillaz</td>\n",
       "      <td>https://open.spotify.com/artist/3AA28KZvwAUcZu...</td>\n",
       "      <td>On Melancholy Hill</td>\n",
       "      <td>Plastic Beach</td>\n",
       "      <td>album</td>\n",
       "      <td>spotify:track:0q6LuUqGLUiCPP1cbdwFs3</td>\n",
       "      <td>0.689</td>\n",
       "      <td>0.739</td>\n",
       "      <td>2.0</td>\n",
       "      <td>...</td>\n",
       "      <td>https://www.youtube.com/watch?v=04mfKJWDSzI</td>\n",
       "      <td>Gorillaz - On Melancholy Hill (Official Video)</td>\n",
       "      <td>Gorillaz</td>\n",
       "      <td>211754952.0</td>\n",
       "      <td>1788577.0</td>\n",
       "      <td>55229.0</td>\n",
       "      <td>Follow Gorillaz online:\\nhttp://gorillaz.com \\...</td>\n",
       "      <td>True</td>\n",
       "      <td>True</td>\n",
       "      <td>4.346636e+08</td>\n",
       "    </tr>\n",
       "    <tr>\n",
       "      <th>4</th>\n",
       "      <td>4</td>\n",
       "      <td>Gorillaz</td>\n",
       "      <td>https://open.spotify.com/artist/3AA28KZvwAUcZu...</td>\n",
       "      <td>Clint Eastwood</td>\n",
       "      <td>Gorillaz</td>\n",
       "      <td>album</td>\n",
       "      <td>spotify:track:7yMiX7n9SBvadzox8T5jzT</td>\n",
       "      <td>0.663</td>\n",
       "      <td>0.694</td>\n",
       "      <td>10.0</td>\n",
       "      <td>...</td>\n",
       "      <td>https://www.youtube.com/watch?v=1V_xRb0x9aw</td>\n",
       "      <td>Gorillaz - Clint Eastwood (Official Video)</td>\n",
       "      <td>Gorillaz</td>\n",
       "      <td>618480958.0</td>\n",
       "      <td>6197318.0</td>\n",
       "      <td>155930.0</td>\n",
       "      <td>The official music video for Gorillaz - Clint ...</td>\n",
       "      <td>True</td>\n",
       "      <td>True</td>\n",
       "      <td>6.172597e+08</td>\n",
       "    </tr>\n",
       "    <tr>\n",
       "      <th>5</th>\n",
       "      <td>5</td>\n",
       "      <td>Gorillaz</td>\n",
       "      <td>https://open.spotify.com/artist/3AA28KZvwAUcZu...</td>\n",
       "      <td>DARE</td>\n",
       "      <td>Demon Days</td>\n",
       "      <td>album</td>\n",
       "      <td>spotify:track:4Hff1IjRbLGeLgFgxvHflk</td>\n",
       "      <td>0.760</td>\n",
       "      <td>0.891</td>\n",
       "      <td>11.0</td>\n",
       "      <td>...</td>\n",
       "      <td>https://www.youtube.com/watch?v=uAOR6ib95kQ</td>\n",
       "      <td>Gorillaz - DARE (Official Video)</td>\n",
       "      <td>Gorillaz</td>\n",
       "      <td>259021161.0</td>\n",
       "      <td>1844658.0</td>\n",
       "      <td>72008.0</td>\n",
       "      <td>Follow Gorillaz online:\\nhttp://gorillaz.com \\...</td>\n",
       "      <td>True</td>\n",
       "      <td>True</td>\n",
       "      <td>3.238503e+08</td>\n",
       "    </tr>\n",
       "    <tr>\n",
       "      <th>6</th>\n",
       "      <td>6</td>\n",
       "      <td>Gorillaz</td>\n",
       "      <td>https://open.spotify.com/artist/3AA28KZvwAUcZu...</td>\n",
       "      <td>New Gold (feat. Tame Impala and Bootie Brown) ...</td>\n",
       "      <td>New Gold (feat. Tame Impala and Bootie Brown) ...</td>\n",
       "      <td>single</td>\n",
       "      <td>spotify:track:2c3KCGq6UojB2c8UAFrRON</td>\n",
       "      <td>0.716</td>\n",
       "      <td>0.897</td>\n",
       "      <td>4.0</td>\n",
       "      <td>...</td>\n",
       "      <td>https://www.youtube.com/watch?v=BONNm0F7Tto</td>\n",
       "      <td>Gorillaz - New Gold ft. Tame Impala, Bootie Br...</td>\n",
       "      <td>Dom Dolla</td>\n",
       "      <td>451996.0</td>\n",
       "      <td>11686.0</td>\n",
       "      <td>241.0</td>\n",
       "      <td>Gorillaz 'New Gold' ft. Tame Impala, Bootie Br...</td>\n",
       "      <td>False</td>\n",
       "      <td>True</td>\n",
       "      <td>1.066615e+07</td>\n",
       "    </tr>\n",
       "    <tr>\n",
       "      <th>7</th>\n",
       "      <td>7</td>\n",
       "      <td>Gorillaz</td>\n",
       "      <td>https://open.spotify.com/artist/3AA28KZvwAUcZu...</td>\n",
       "      <td>She's My Collar (feat. Kali Uchis)</td>\n",
       "      <td>Humanz (Deluxe)</td>\n",
       "      <td>album</td>\n",
       "      <td>spotify:track:3lIxtCaROdRDuTnNBDm3n2</td>\n",
       "      <td>0.726</td>\n",
       "      <td>0.815</td>\n",
       "      <td>11.0</td>\n",
       "      <td>...</td>\n",
       "      <td>https://www.youtube.com/watch?v=f8NwLXYIHS4</td>\n",
       "      <td>Gorillaz - She's My Collar [HQ]</td>\n",
       "      <td>SalvaMuñox</td>\n",
       "      <td>1010982.0</td>\n",
       "      <td>17675.0</td>\n",
       "      <td>260.0</td>\n",
       "      <td>𝐁̲𝐎̲𝐍̲𝐔̲𝐒̲:̲ Hu̳ma̳n̳z [̲̠̲𝐃̲̠̲𝐄̲̠̲𝐅̲̠̲𝐈̲̠̲𝐍̲̠...</td>\n",
       "      <td>False</td>\n",
       "      <td>False</td>\n",
       "      <td>1.596059e+08</td>\n",
       "    </tr>\n",
       "    <tr>\n",
       "      <th>8</th>\n",
       "      <td>8</td>\n",
       "      <td>Gorillaz</td>\n",
       "      <td>https://open.spotify.com/artist/3AA28KZvwAUcZu...</td>\n",
       "      <td>Cracker Island (feat. Thundercat)</td>\n",
       "      <td>Cracker Island (feat. Thundercat)</td>\n",
       "      <td>single</td>\n",
       "      <td>spotify:track:2W3ZpQg9i6lE6kmHbcdu9N</td>\n",
       "      <td>0.741</td>\n",
       "      <td>0.913</td>\n",
       "      <td>2.0</td>\n",
       "      <td>...</td>\n",
       "      <td>https://www.youtube.com/watch?v=S03T47hapAc</td>\n",
       "      <td>Gorillaz - Cracker Island ft. Thundercat (Offi...</td>\n",
       "      <td>Gorillaz</td>\n",
       "      <td>24459820.0</td>\n",
       "      <td>739527.0</td>\n",
       "      <td>20296.0</td>\n",
       "      <td>Listen to Cracker Island: https://gorillaz.lnk...</td>\n",
       "      <td>True</td>\n",
       "      <td>True</td>\n",
       "      <td>4.267190e+07</td>\n",
       "    </tr>\n",
       "    <tr>\n",
       "      <th>9</th>\n",
       "      <td>9</td>\n",
       "      <td>Gorillaz</td>\n",
       "      <td>https://open.spotify.com/artist/3AA28KZvwAUcZu...</td>\n",
       "      <td>Dirty Harry</td>\n",
       "      <td>Demon Days</td>\n",
       "      <td>album</td>\n",
       "      <td>spotify:track:2bfGNzdiRa1jXZRdfssSzR</td>\n",
       "      <td>0.625</td>\n",
       "      <td>0.877</td>\n",
       "      <td>10.0</td>\n",
       "      <td>...</td>\n",
       "      <td>https://www.youtube.com/watch?v=cLnkQAeMbIM</td>\n",
       "      <td>Gorillaz - Dirty Harry (Official Video)</td>\n",
       "      <td>Gorillaz</td>\n",
       "      <td>154761056.0</td>\n",
       "      <td>1386920.0</td>\n",
       "      <td>39240.0</td>\n",
       "      <td>Follow Gorillaz online:\\nhttp://gorillaz.com \\...</td>\n",
       "      <td>True</td>\n",
       "      <td>True</td>\n",
       "      <td>1.910747e+08</td>\n",
       "    </tr>\n",
       "  </tbody>\n",
       "</table>\n",
       "<p>10 rows × 28 columns</p>\n",
       "</div>"
      ],
      "text/plain": [
       "   Unnamed: 0    Artist                                        Url_spotify   \n",
       "0           0  Gorillaz  https://open.spotify.com/artist/3AA28KZvwAUcZu...  \\\n",
       "1           1  Gorillaz  https://open.spotify.com/artist/3AA28KZvwAUcZu...   \n",
       "2           2  Gorillaz  https://open.spotify.com/artist/3AA28KZvwAUcZu...   \n",
       "3           3  Gorillaz  https://open.spotify.com/artist/3AA28KZvwAUcZu...   \n",
       "4           4  Gorillaz  https://open.spotify.com/artist/3AA28KZvwAUcZu...   \n",
       "5           5  Gorillaz  https://open.spotify.com/artist/3AA28KZvwAUcZu...   \n",
       "6           6  Gorillaz  https://open.spotify.com/artist/3AA28KZvwAUcZu...   \n",
       "7           7  Gorillaz  https://open.spotify.com/artist/3AA28KZvwAUcZu...   \n",
       "8           8  Gorillaz  https://open.spotify.com/artist/3AA28KZvwAUcZu...   \n",
       "9           9  Gorillaz  https://open.spotify.com/artist/3AA28KZvwAUcZu...   \n",
       "\n",
       "                                               Track   \n",
       "0                                     Feel Good Inc.  \\\n",
       "1                                    Rhinestone Eyes   \n",
       "2      New Gold (feat. Tame Impala and Bootie Brown)   \n",
       "3                                 On Melancholy Hill   \n",
       "4                                     Clint Eastwood   \n",
       "5                                               DARE   \n",
       "6  New Gold (feat. Tame Impala and Bootie Brown) ...   \n",
       "7                 She's My Collar (feat. Kali Uchis)   \n",
       "8                  Cracker Island (feat. Thundercat)   \n",
       "9                                        Dirty Harry   \n",
       "\n",
       "                                               Album Album_type   \n",
       "0                                         Demon Days      album  \\\n",
       "1                                      Plastic Beach      album   \n",
       "2      New Gold (feat. Tame Impala and Bootie Brown)     single   \n",
       "3                                      Plastic Beach      album   \n",
       "4                                           Gorillaz      album   \n",
       "5                                         Demon Days      album   \n",
       "6  New Gold (feat. Tame Impala and Bootie Brown) ...     single   \n",
       "7                                    Humanz (Deluxe)      album   \n",
       "8                  Cracker Island (feat. Thundercat)     single   \n",
       "9                                         Demon Days      album   \n",
       "\n",
       "                                    Uri  Danceability  Energy   Key  ...   \n",
       "0  spotify:track:0d28khcov6AiegSCpG5TuT         0.818   0.705   6.0  ...  \\\n",
       "1  spotify:track:1foMv2HQwfQ2vntFf9HFeG         0.676   0.703   8.0  ...   \n",
       "2  spotify:track:64dLd6rVqDLtkXFYrEUHIU         0.695   0.923   1.0  ...   \n",
       "3  spotify:track:0q6LuUqGLUiCPP1cbdwFs3         0.689   0.739   2.0  ...   \n",
       "4  spotify:track:7yMiX7n9SBvadzox8T5jzT         0.663   0.694  10.0  ...   \n",
       "5  spotify:track:4Hff1IjRbLGeLgFgxvHflk         0.760   0.891  11.0  ...   \n",
       "6  spotify:track:2c3KCGq6UojB2c8UAFrRON         0.716   0.897   4.0  ...   \n",
       "7  spotify:track:3lIxtCaROdRDuTnNBDm3n2         0.726   0.815  11.0  ...   \n",
       "8  spotify:track:2W3ZpQg9i6lE6kmHbcdu9N         0.741   0.913   2.0  ...   \n",
       "9  spotify:track:2bfGNzdiRa1jXZRdfssSzR         0.625   0.877  10.0  ...   \n",
       "\n",
       "                                   Url_youtube   \n",
       "0  https://www.youtube.com/watch?v=HyHNuVaZJ-k  \\\n",
       "1  https://www.youtube.com/watch?v=yYDmaexVHic   \n",
       "2  https://www.youtube.com/watch?v=qJa-VFwPpYA   \n",
       "3  https://www.youtube.com/watch?v=04mfKJWDSzI   \n",
       "4  https://www.youtube.com/watch?v=1V_xRb0x9aw   \n",
       "5  https://www.youtube.com/watch?v=uAOR6ib95kQ   \n",
       "6  https://www.youtube.com/watch?v=BONNm0F7Tto   \n",
       "7  https://www.youtube.com/watch?v=f8NwLXYIHS4   \n",
       "8  https://www.youtube.com/watch?v=S03T47hapAc   \n",
       "9  https://www.youtube.com/watch?v=cLnkQAeMbIM   \n",
       "\n",
       "                                               Title     Channel        Views   \n",
       "0         Gorillaz - Feel Good Inc. (Official Video)    Gorillaz  693555221.0  \\\n",
       "1  Gorillaz - Rhinestone Eyes [Storyboard Film] (...    Gorillaz   72011645.0   \n",
       "2  Gorillaz - New Gold ft. Tame Impala & Bootie B...    Gorillaz    8435055.0   \n",
       "3     Gorillaz - On Melancholy Hill (Official Video)    Gorillaz  211754952.0   \n",
       "4         Gorillaz - Clint Eastwood (Official Video)    Gorillaz  618480958.0   \n",
       "5                   Gorillaz - DARE (Official Video)    Gorillaz  259021161.0   \n",
       "6  Gorillaz - New Gold ft. Tame Impala, Bootie Br...   Dom Dolla     451996.0   \n",
       "7                    Gorillaz - She's My Collar [HQ]  SalvaMuñox    1010982.0   \n",
       "8  Gorillaz - Cracker Island ft. Thundercat (Offi...    Gorillaz   24459820.0   \n",
       "9            Gorillaz - Dirty Harry (Official Video)    Gorillaz  154761056.0   \n",
       "\n",
       "       Likes  Comments                                        Description   \n",
       "0  6220896.0  169907.0  Official HD Video for Gorillaz' fantastic trac...  \\\n",
       "1  1079128.0   31003.0  The official video for Gorillaz - Rhinestone E...   \n",
       "2   282142.0    7399.0  Gorillaz - New Gold ft. Tame Impala & Bootie B...   \n",
       "3  1788577.0   55229.0  Follow Gorillaz online:\\nhttp://gorillaz.com \\...   \n",
       "4  6197318.0  155930.0  The official music video for Gorillaz - Clint ...   \n",
       "5  1844658.0   72008.0  Follow Gorillaz online:\\nhttp://gorillaz.com \\...   \n",
       "6    11686.0     241.0  Gorillaz 'New Gold' ft. Tame Impala, Bootie Br...   \n",
       "7    17675.0     260.0  𝐁̲𝐎̲𝐍̲𝐔̲𝐒̲:̲ Hu̳ma̳n̳z [̲̠̲𝐃̲̠̲𝐄̲̠̲𝐅̲̠̲𝐈̲̠̲𝐍̲̠...   \n",
       "8   739527.0   20296.0  Listen to Cracker Island: https://gorillaz.lnk...   \n",
       "9  1386920.0   39240.0  Follow Gorillaz online:\\nhttp://gorillaz.com \\...   \n",
       "\n",
       "   Licensed official_video        Stream  \n",
       "0      True           True  1.040235e+09  \n",
       "1      True           True  3.100837e+08  \n",
       "2      True           True  6.306347e+07  \n",
       "3      True           True  4.346636e+08  \n",
       "4      True           True  6.172597e+08  \n",
       "5      True           True  3.238503e+08  \n",
       "6     False           True  1.066615e+07  \n",
       "7     False          False  1.596059e+08  \n",
       "8      True           True  4.267190e+07  \n",
       "9      True           True  1.910747e+08  \n",
       "\n",
       "[10 rows x 28 columns]"
      ]
     },
     "execution_count": 4,
     "metadata": {},
     "output_type": "execute_result"
    }
   ],
   "source": [
    "df.head(10)"
   ]
  },
  {
   "attachments": {},
   "cell_type": "markdown",
   "metadata": {
    "collapsed": false
   },
   "source": [
    "### Структура датасета:\n",
    "\n",
    "----\n",
    "\n",
    "26 признаков, описание которых следует ниже:\n",
    "\n",
    "\n",
    "\n",
    "- **Track**: name of the song, as visible on the Spotify platform.\n",
    "- **Artist**: name of the artist.\n",
    "- **Url_spotify**: the Url of the artist.\n",
    "- **Album**: the album in wich the song is contained on Spotify.\n",
    "- **Album_type**: indicates if the song is relesead on Spotify as a single or contained in an album.\n",
    "- **Uri**: a spotify link used to find the song through the API.\n",
    "- **Danceability**: describes how suitable a track is for dancing based on a combination of musical elements including tempo, rhythm stability, beat strength, and overall regularity. A value of 0.0 is least danceable and 1.0 is most danceable.\n",
    "- **Energy:** is a measure from 0.0 to 1.0 and represents a perceptual measure of intensity and activity. Typically, energetic tracks feel fast, loud, and noisy. For example, death metal has high energy, while a Bach prelude scores low on the scale. Perceptual features contributing to this attribute include dynamic range, perceived loudness, timbre, onset rate, and general entropy.\n",
    "- **Key**: the key the track is in. Integers map to pitches using standard Pitch Class notation. E.g. 0 = C, 1 = C♯/D♭, 2 = D, and so on. If no key was detected, the value is -1.\n",
    "- **Loudness**: the overall loudness of a track in decibels (dB). Loudness values are averaged across the entire track and are useful for comparing relative loudness of tracks. Loudness is the quality of a sound that is the primary psychological correlate of physical strength (amplitude). Values typically range between -60 and 0 db.\n",
    "- **Speechiness**: detects the presence of spoken words in a track. The more exclusively speech-like the recording (e.g. talk show, audio book, poetry), the closer to 1.0 the attribute value. Values above 0.66 describe tracks that are probably made entirely of spoken words. Values between 0.33 and 0.66 describe tracks that may contain both music and speech, either in sections or layered, including such cases as rap music. Values below 0.33 most likely represent music and other non-speech-like tracks.\n",
    "- **Acousticness**: a confidence measure from 0.0 to 1.0 of whether the track is acoustic. 1.0 represents high confidence the track is acoustic.\n",
    "- **Instrumentalness**: predicts whether a track contains no vocals. \"Ooh\" and \"aah\" sounds are treated as instrumental in this context. Rap or spoken word tracks are clearly \"vocal\". The closer the instrumentalness value is to 1.0, the greater likelihood the track contains no vocal content. Values above 0.5 are intended to represent instrumental tracks, but confidence is higher as the value approaches 1.0.\n",
    "- **Liveness**: detects the presence of an audience in the recording. Higher liveness values represent an increased probability that the track was performed live. A value above 0.8 provides strong likelihood that the track is live.\n",
    "- **Valence**: a measure from 0.0 to 1.0 describing the musical positiveness conveyed by a track. Tracks with high valence sound more positive (e.g. happy, cheerful, euphoric), while tracks with low valence sound more negative (e.g. sad, depressed, angry).\n",
    "- **Tempo**: the overall estimated tempo of a track in beats per minute (BPM). In musical terminology, tempo is the speed or pace of a given piece and derives directly from the average beat duration.\n",
    "- **Duration_ms**: the duration of the track in milliseconds.\n",
    "- **Stream**: number of streams of the song on Spotify.\n",
    "- **Url_youtube**: url of the video linked to the song on Youtube, if it have any.\n",
    "- **Title**: title of the videoclip on youtube.\n",
    "- **Channel**: name of the channel that have published the video.\n",
    "- **Views**: number of views.\n",
    "- **Likes**: number of likes.\n",
    "- **Comments**: number of comments.\n",
    "- **Description**: description of the video on Youtube.\n",
    "- **Licensed**: Indicates whether the video represents licensed content, which means that the content was uploaded to a channel linked to a YouTube content partner and then claimed by that partner. official_video: boolean value that indicates if the video found is the official video of the song."
   ]
  },
  {
   "attachments": {},
   "cell_type": "markdown",
   "metadata": {
    "collapsed": false
   },
   "source": [
    "### Вопросы:"
   ]
  },
  {
   "cell_type": "code",
   "execution_count": 5,
   "metadata": {},
   "outputs": [
    {
     "name": "stdout",
     "output_type": "stream",
     "text": [
      "<class 'pandas.core.frame.DataFrame'>\n",
      "RangeIndex: 20718 entries, 0 to 20717\n",
      "Data columns (total 28 columns):\n",
      " #   Column            Non-Null Count  Dtype  \n",
      "---  ------            --------------  -----  \n",
      " 0   Unnamed: 0        20718 non-null  int64  \n",
      " 1   Artist            20718 non-null  object \n",
      " 2   Url_spotify       20718 non-null  object \n",
      " 3   Track             20718 non-null  object \n",
      " 4   Album             20718 non-null  object \n",
      " 5   Album_type        20718 non-null  object \n",
      " 6   Uri               20718 non-null  object \n",
      " 7   Danceability      20716 non-null  float64\n",
      " 8   Energy            20716 non-null  float64\n",
      " 9   Key               20716 non-null  float64\n",
      " 10  Loudness          20716 non-null  float64\n",
      " 11  Speechiness       20716 non-null  float64\n",
      " 12  Acousticness      20716 non-null  float64\n",
      " 13  Instrumentalness  20716 non-null  float64\n",
      " 14  Liveness          20716 non-null  float64\n",
      " 15  Valence           20716 non-null  float64\n",
      " 16  Tempo             20716 non-null  float64\n",
      " 17  Duration_ms       20716 non-null  float64\n",
      " 18  Url_youtube       20248 non-null  object \n",
      " 19  Title             20248 non-null  object \n",
      " 20  Channel           20248 non-null  object \n",
      " 21  Views             20248 non-null  float64\n",
      " 22  Likes             20177 non-null  float64\n",
      " 23  Comments          20149 non-null  float64\n",
      " 24  Description       19842 non-null  object \n",
      " 25  Licensed          20248 non-null  object \n",
      " 26  official_video    20248 non-null  object \n",
      " 27  Stream            20142 non-null  float64\n",
      "dtypes: float64(15), int64(1), object(12)\n",
      "memory usage: 4.4+ MB\n"
     ]
    }
   ],
   "source": [
    "df.info() # quick look at data "
   ]
  },
  {
   "attachments": {},
   "cell_type": "markdown",
   "metadata": {},
   "source": [
    "There are some null values in this dataset, this should be kept in mind. \n",
    "Key could be int8 because it contains only 0-11 values"
   ]
  },
  {
   "attachments": {},
   "cell_type": "markdown",
   "metadata": {
    "collapsed": false
   },
   "source": [
    "#### 1. Какая песня является наиболее транслируемой в датасете (признак Stream)?"
   ]
  },
  {
   "attachments": {},
   "cell_type": "markdown",
   "metadata": {},
   "source": [
    "There are many tasks that require to find track with maximum value. So I made a function that takes name of the attribute we needed and seeks\n",
    "for track that hax maximum value of this attribute and then returns string that conatins track name and artist.\n",
    "In this case we needed to find most streamed song. Great example of this function usage"
   ]
  },
  {
   "cell_type": "code",
   "execution_count": 6,
   "metadata": {
    "collapsed": false
   },
   "outputs": [
    {
     "name": "stdout",
     "output_type": "stream",
     "text": [
      "The most streamed song on spotify is \"Blinding Lights\" by The Weeknd \n"
     ]
    }
   ],
   "source": [
    "def find_most(attr,df):\n",
    "    sub_df = df.loc[df[attr] == df[attr].max()]\n",
    "    return str('\"'+ sub_df['Track'].values[0])+ '\" by ' + sub_df['Artist'].values[0]\n",
    "\n",
    "print('The most streamed song on spotify is {song} '.format(\n",
    "    song =find_most('Stream',df))\n",
    "    )"
   ]
  },
  {
   "attachments": {},
   "cell_type": "markdown",
   "metadata": {
    "collapsed": false
   },
   "source": [
    "#### 2. У какого исполнителя больше всего просмотров на YouTube?"
   ]
  },
  {
   "attachments": {},
   "cell_type": "markdown",
   "metadata": {},
   "source": [
    "Firts we make pivot table which sumarize views for each artist, then we just select the one which has maximum views and print his name"
   ]
  },
  {
   "cell_type": "code",
   "execution_count": 7,
   "metadata": {
    "collapsed": false
   },
   "outputs": [
    {
     "name": "stdout",
     "output_type": "stream",
     "text": [
      "Most viewed artist on youtube is Ed Sheeran\n"
     ]
    }
   ],
   "source": [
    "\n",
    "artist_views = df.pivot_table(index='Artist', values = 'Views', aggfunc=sum)     # total views for each artist\n",
    "top_viewed = artist_views.loc[artist_views['Views']==artist_views['Views'].max(),]\n",
    "print('Most viewed artist on youtube is {artist}'.format(\n",
    "    artist = top_viewed.index[0])\n",
    "    )"
   ]
  },
  {
   "attachments": {},
   "cell_type": "markdown",
   "metadata": {
    "collapsed": false
   },
   "source": [
    "#### 3. Какова средняя продолжительность всех песен в минутах?"
   ]
  },
  {
   "attachments": {},
   "cell_type": "markdown",
   "metadata": {},
   "source": [
    "Built-in method .mean() will almost solve this task for us, the only thing we need to do then is to convert mmiliseconds to minutes."
   ]
  },
  {
   "cell_type": "code",
   "execution_count": 8,
   "metadata": {
    "collapsed": false
   },
   "outputs": [
    {
     "name": "stdout",
     "output_type": "stream",
     "text": [
      "Average duration of all songs is 3.745292983684109 min\n"
     ]
    }
   ],
   "source": [
    "av_dur = df['Duration_ms'].mean()/1000/60 #mean divided by 1000 and 60 to translate ms to min\n",
    "print('Average duration of all songs is {dur} min'.format(dur = av_dur ))"
   ]
  },
  {
   "attachments": {},
   "cell_type": "markdown",
   "metadata": {
    "collapsed": false
   },
   "source": [
    "#### 4. Какая нота (Key) чаще всего используется в песнях?"
   ]
  },
  {
   "attachments": {},
   "cell_type": "markdown",
   "metadata": {},
   "source": [
    "Counted all keys apearence in dataframe -> Changed type of keys to int8 because maximum number in this series is 11 -> Made dictionary to convert data to actual music key -> found maximum index in series -> print it out via number to key dictionary"
   ]
  },
  {
   "cell_type": "code",
   "execution_count": 9,
   "metadata": {
    "collapsed": false
   },
   "outputs": [
    {
     "name": "stdout",
     "output_type": "stream",
     "text": [
      "Most often key among all songs is C\n"
     ]
    }
   ],
   "source": [
    "key_usage = df.value_counts('Key')\n",
    "key_usage.index = key_usage.index.astype(np.int8) #max value is 11 so int8 will cover all we need\n",
    "key_dict = {'0': 'C', '1' :'C#/Db', '2' :'D', '3' : 'D#/Eb', '4' :'E', '5' :'F', '6':'F#/Gb', '7':'G', '8': 'G#/Ab', '9': 'A', '10':'A#/Bb', '11':'B',} # num to key dict\n",
    "most_used_key = key_dict[str(key_usage.idxmax())] # most used key index in serires\n",
    "print('Most often key among all songs is {key}'.format(key = most_used_key)) "
   ]
  },
  {
   "attachments": {},
   "cell_type": "markdown",
   "metadata": {
    "collapsed": false
   },
   "source": [
    "#### 5. Какая самая популярная песня на YouTube?"
   ]
  },
  {
   "attachments": {},
   "cell_type": "markdown",
   "metadata": {},
   "source": [
    "Solved by using predefined function find_most()"
   ]
  },
  {
   "cell_type": "code",
   "execution_count": 10,
   "metadata": {
    "collapsed": false
   },
   "outputs": [
    {
     "name": "stdout",
     "output_type": "stream",
     "text": [
      "Most popular song on YouTube is \"Despacito\" by Luis Fonsi\n"
     ]
    }
   ],
   "source": [
    "print('Most popular song on YouTube is {song}'.format(\n",
    "    song = find_most('Views',df)\n",
    "))"
   ]
  },
  {
   "attachments": {},
   "cell_type": "markdown",
   "metadata": {
    "collapsed": false
   },
   "source": [
    "#### 6. У какой песни самый высокий балл за танцевальность (danceability )?"
   ]
  },
  {
   "attachments": {},
   "cell_type": "markdown",
   "metadata": {},
   "source": [
    "Solved by using predefined function find_most()"
   ]
  },
  {
   "cell_type": "code",
   "execution_count": 11,
   "metadata": {
    "collapsed": false
   },
   "outputs": [
    {
     "name": "stdout",
     "output_type": "stream",
     "text": [
      "Most danceable song is \"Give It To Me\" by Timbaland\n"
     ]
    }
   ],
   "source": [
    "print('Most danceable song is {song}'.format(\n",
    "    song = find_most('Danceability',df)\n",
    "))"
   ]
  },
  {
   "attachments": {},
   "cell_type": "markdown",
   "metadata": {
    "collapsed": false
   },
   "source": [
    "#### 7. У какой песни самый высокий показатель энергии (energy score)?"
   ]
  },
  {
   "attachments": {},
   "cell_type": "markdown",
   "metadata": {},
   "source": [
    "Solved by using predefined function find_most()\n",
    "Seems like algorithm that gets song energy working wrong with rain sounds and noise. If we drop all of this, most energy song will be \"Voodo People\" by   The Prodigy"
   ]
  },
  {
   "cell_type": "code",
   "execution_count": 12,
   "metadata": {
    "collapsed": false
   },
   "outputs": [
    {
     "name": "stdout",
     "output_type": "stream",
     "text": [
      "Most energy song is \"Rain and Thunderstorm, Pt. 3\" by Rain Fruits Sounds\n"
     ]
    }
   ],
   "source": [
    "print('Most energy song is {song}'.format(\n",
    "    song = find_most('Energy',df)\n",
    "))\n",
    "# df[['Track', 'Artist', 'Energy']].sort_values('Energy', ascending=False).head(10) #top 10 energy tracks"
   ]
  },
  {
   "attachments": {},
   "cell_type": "markdown",
   "metadata": {
    "collapsed": false
   },
   "source": [
    "#### 8. Какая песня имеет наивысший балл valence (valence score)?"
   ]
  },
  {
   "attachments": {},
   "cell_type": "markdown",
   "metadata": {},
   "source": [
    "Solved by using predefined function find_most()"
   ]
  },
  {
   "cell_type": "code",
   "execution_count": 13,
   "metadata": {
    "collapsed": false
   },
   "outputs": [
    {
     "name": "stdout",
     "output_type": "stream",
     "text": [
      "Most valence song is \"Spider Dance\" by Toby Fox\n"
     ]
    }
   ],
   "source": [
    "print('Most valence song is {song}'.format(\n",
    "    song = find_most('Valence',df)\n",
    "))"
   ]
  },
  {
   "attachments": {},
   "cell_type": "markdown",
   "metadata": {
    "collapsed": false
   },
   "source": [
    "#### 9. Будут ли песни с более высокой «valence» (музыкальной позитивностью) более популярны как на Spotify, так и на YouTube? Чтобы ответить на этот вопрос, подсчитайте среднюю оценку «valence» для песен в верхнем квартиле «Streams» и «Views» и сравните ее с общей средней «valence»."
   ]
  },
  {
   "attachments": {},
   "cell_type": "markdown",
   "metadata": {},
   "source": [
    "Looks like Valence doesn't affect popularity greatly, but it seems like Valence means a little more for youtube users than for users of spotify. I assume that it may be connected with kids watching songs for kids on youtube, while there is not much kids using spotify."
   ]
  },
  {
   "cell_type": "code",
   "execution_count": 14,
   "metadata": {
    "collapsed": false
   },
   "outputs": [
    {
     "name": "stdout",
     "output_type": "stream",
     "text": [
      "0.5475266442820462\n",
      "0.5240532929493545\n"
     ]
    }
   ],
   "source": [
    "yt = df.loc[df['Views'] >= df['Views'].quantile(0.75)] #YouTube views top quartile\n",
    "sp = df.loc[df['Stream'] >= df['Stream'].quantile(0.75)] #Spotify streams top quartile\n",
    "print(yt['Valence'].mean())\n",
    "print(sp['Valence'].mean())"
   ]
  },
  {
   "attachments": {},
   "cell_type": "markdown",
   "metadata": {
    "collapsed": false
   },
   "source": [
    "#### 10. Какой канал на YouTube имеет наибольшее количество просмотров?"
   ]
  },
  {
   "attachments": {},
   "cell_type": "markdown",
   "metadata": {},
   "source": [
    "Using .pivot_table() I collected total views for every channel, then just picked id of channel that has maximum views"
   ]
  },
  {
   "cell_type": "code",
   "execution_count": 15,
   "metadata": {
    "collapsed": false
   },
   "outputs": [
    {
     "name": "stdout",
     "output_type": "stream",
     "text": [
      "Most viewed channel on youtube is T-Series\n"
     ]
    }
   ],
   "source": [
    "ch_views = df.pivot_table('Views','Channel',aggfunc=sum) # create pivot table with names of YT channels and amount of views\n",
    "print('Most viewed channel on youtube is', ch_views['Views'].idxmax())"
   ]
  },
  {
   "attachments": {},
   "cell_type": "markdown",
   "metadata": {
    "collapsed": false
   },
   "source": [
    "#### 11. У песни какого исполнителя больше всего комментариев на YouTube?"
   ]
  },
  {
   "attachments": {},
   "cell_type": "markdown",
   "metadata": {},
   "source": [
    "Solved by using predefined function find_most() with a little addition in form of splting result string into two to get Artist name separated from Track name"
   ]
  },
  {
   "cell_type": "code",
   "execution_count": 16,
   "metadata": {
    "collapsed": false
   },
   "outputs": [
    {
     "name": "stdout",
     "output_type": "stream",
     "text": [
      "Artist of the most commented song on youtube is BTS\n"
     ]
    }
   ],
   "source": [
    "print('Artist of the most commented song on youtube is', find_most('Comments', df).split('\" by ')[1])"
   ]
  },
  {
   "attachments": {},
   "cell_type": "markdown",
   "metadata": {
    "collapsed": false
   },
   "source": [
    "#### 12. Какой самый распространенный темп (tempo) песен?"
   ]
  },
  {
   "attachments": {},
   "cell_type": "markdown",
   "metadata": {},
   "source": [
    "Most used tempo is equal to mode of all tempos in dataframe"
   ]
  },
  {
   "cell_type": "code",
   "execution_count": 17,
   "metadata": {
    "collapsed": false
   },
   "outputs": [
    {
     "name": "stdout",
     "output_type": "stream",
     "text": [
      "Most used tempo is  77.986\n"
     ]
    }
   ],
   "source": [
    "popular_tempo = df[\"Tempo\"].mode()[0]\n",
    "print('Most used tempo is ',popular_tempo)"
   ]
  },
  {
   "attachments": {},
   "cell_type": "markdown",
   "metadata": {
    "collapsed": false
   },
   "source": [
    "#### 13. Какая песня имеет самый высокий показатель по speechiness?"
   ]
  },
  {
   "attachments": {},
   "cell_type": "markdown",
   "metadata": {},
   "source": [
    "Solved by using predefined function find_most()\n",
    "Most speechy tracks on spotify are german audiobooks. If we drop them out, most Speechy song would be \"Paul Revere\" by Beastie Boys\t"
   ]
  },
  {
   "cell_type": "code",
   "execution_count": 18,
   "metadata": {
    "collapsed": false
   },
   "outputs": [
    {
     "name": "stdout",
     "output_type": "stream",
     "text": [
      "Most speechiness song is \"Teil 7 - Sherlock Holmes und der blinde Bettler - Die neuen Abenteuer, Folge 50\" by Sir Arthur Conan Doyle\n"
     ]
    }
   ],
   "source": [
    "print('Most speechiness song is', find_most('Speechiness', df))\n",
    "# df[['Track', 'Artist', 'Speechiness']].sort_values('Speechiness', ascending=False).head(30) #top 30 speechiness tracks\n"
   ]
  },
  {
   "attachments": {},
   "cell_type": "markdown",
   "metadata": {
    "collapsed": false
   },
   "source": [
    "#### 14. Какая самая громкая песня в наборе данных?"
   ]
  },
  {
   "attachments": {},
   "cell_type": "markdown",
   "metadata": {},
   "source": [
    "Solved by using predefined function find_most()"
   ]
  },
  {
   "cell_type": "code",
   "execution_count": 19,
   "metadata": {
    "collapsed": false
   },
   "outputs": [
    {
     "name": "stdout",
     "output_type": "stream",
     "text": [
      "Most loud song is \"Siren\" by Sub Focus\n"
     ]
    }
   ],
   "source": [
    "print('Most loud song is', find_most('Loudness', df))"
   ]
  },
  {
   "attachments": {},
   "cell_type": "markdown",
   "metadata": {
    "collapsed": false
   },
   "source": [
    "#### 15. У какого артиста самый высокий средний балл danceability?"
   ]
  },
  {
   "attachments": {},
   "cell_type": "markdown",
   "metadata": {},
   "source": [
    "Using .pivot_table(), we aggregate Danceability for each Artist by function np.mean. \n",
    "Then just pick index of maximum Danceability from this pivot table"
   ]
  },
  {
   "cell_type": "code",
   "execution_count": 20,
   "metadata": {
    "collapsed": false
   },
   "outputs": [
    {
     "name": "stdout",
     "output_type": "stream",
     "text": [
      "Most danceable artist is Saweetie\n"
     ]
    }
   ],
   "source": [
    "av_dance = df.pivot_table('Danceability', 'Artist', aggfunc=np.mean) # Average Danceability for each Artist\n",
    "print('Most danceable artist is', av_dance['Danceability'].idxmax())\n"
   ]
  },
  {
   "attachments": {},
   "cell_type": "markdown",
   "metadata": {
    "collapsed": false
   },
   "source": [
    "#### 16. Как средний показатель «speechiness» песен зависит от «Album_type»? Песни, выпущенные как синглы, чаще содержат больше слов согласно анализу?"
   ]
  },
  {
   "attachments": {},
   "cell_type": "markdown",
   "metadata": {},
   "source": [
    "Singles have a little more words in them than albums. But I assume this correlation can be inaccurate because of German audiobooks mentioned earlier."
   ]
  },
  {
   "cell_type": "code",
   "execution_count": 21,
   "metadata": {
    "collapsed": false
   },
   "outputs": [
    {
     "name": "stdout",
     "output_type": "stream",
     "text": [
      "album = 0.09474469179268978\n",
      "compilation = 0.07693895348837208\n",
      "single = 0.1041040912018031\n"
     ]
    }
   ],
   "source": [
    "sub_df = df.pivot_table('Speechiness', 'Album_type', 'Track').T\n",
    "for i in sub_df.columns:\n",
    "    print(i+' =',sub_df[i].mean(skipna=True))"
   ]
  },
  {
   "attachments": {},
   "cell_type": "markdown",
   "metadata": {
    "collapsed": false
   },
   "source": [
    "#### 17. Каково среднее количество прослушиваний песен, которые входят в топ 10% лучших по метрике танцевальности?"
   ]
  },
  {
   "attachments": {},
   "cell_type": "markdown",
   "metadata": {},
   "source": [
    "Top 10% is equal to 90% percentile, so i just picked 90% percentile using methods .loc and .quantile()\n",
    "After this is done, just used .mean() method to get the needed result"
   ]
  },
  {
   "cell_type": "code",
   "execution_count": 22,
   "metadata": {
    "collapsed": false
   },
   "outputs": [
    {
     "name": "stdout",
     "output_type": "stream",
     "text": [
      "Average streams of top 10% songs in spotify is 151930059.92221135\n"
     ]
    }
   ],
   "source": [
    "sub_df = df.loc[df['Danceability'] >= df['Danceability'].quantile(0.9)]\n",
    "print('Average streams of top 10% songs in spotify is', sub_df['Stream'].mean())"
   ]
  },
  {
   "attachments": {},
   "cell_type": "markdown",
   "metadata": {
    "collapsed": false
   },
   "source": [
    "#### 18. Для песен, которые входят в топ 10% лучших с точки зрения «danceability» метрики, как соотносится их средний показатель «tempo» со средним показателем «tempo» всех песен?"
   ]
  },
  {
   "attachments": {},
   "cell_type": "markdown",
   "metadata": {},
   "source": [
    "Looks like danceable songs have slightly higher tempo than average song"
   ]
  },
  {
   "cell_type": "code",
   "execution_count": 23,
   "metadata": {
    "collapsed": false
   },
   "outputs": [
    {
     "name": "stdout",
     "output_type": "stream",
     "text": [
      "Average tempo = 115.07538602409639 \n",
      "Average Top 10% Danceable tempo =  120.63833993048851\n"
     ]
    }
   ],
   "source": [
    "t_mean = df['Tempo'].mean()\n",
    "sub_df = df.loc[df['Danceability'] >= df['Danceability'].quantile(0.9)]\n",
    "print('Average tempo =',sub_df['Tempo'].mean(), '\\nAverage Top 10% Danceable tempo = ', t_mean)\n"
   ]
  },
  {
   "attachments": {},
   "cell_type": "markdown",
   "metadata": {
    "collapsed": false
   },
   "source": [
    "#### 19. Какова корреляция между «valence» метрикой песни и ее популярностью на YouTube (по показателю «Views») и Spotify (по показателю «Stream»)? Счастливые песни более популярны? Valency отвечает за жизнерадостность песни."
   ]
  },
  {
   "attachments": {},
   "cell_type": "markdown",
   "metadata": {},
   "source": [
    "Need to normalise Views and Stream, and only then we should get correlation. I have no time to get this work unfortunately :("
   ]
  },
  {
   "cell_type": "code",
   "execution_count": null,
   "metadata": {
    "collapsed": false
   },
   "outputs": [],
   "source": []
  },
  {
   "attachments": {},
   "cell_type": "markdown",
   "metadata": {
    "collapsed": false
   },
   "source": [
    "#### 20. Какова средняя громкость песен, которые входят в топ 10% лучших по энергетике (Energy)?"
   ]
  },
  {
   "cell_type": "code",
   "execution_count": 24,
   "metadata": {
    "collapsed": false
   },
   "outputs": [
    {
     "name": "stdout",
     "output_type": "stream",
     "text": [
      "Average loudness of top 10% energy tracks -4.627998091603053 dB\n"
     ]
    }
   ],
   "source": [
    "sub_df = df.loc[df['Energy'] >= df['Energy'].quantile(0.9)]  # Top 10% Energy Tracks\n",
    "print('Average loudness of top 10% energy tracks', sub_df['Loudness'].mean(), 'dB')"
   ]
  },
  {
   "attachments": {},
   "cell_type": "markdown",
   "metadata": {
    "collapsed": false
   },
   "source": [
    "#### 21. У какого исполнителя больше всего песен, которые входят в топ-10% как по просмотрам на YouTube, так и по стримам Spotify?"
   ]
  },
  {
   "attachments": {},
   "cell_type": "markdown",
   "metadata": {},
   "source": [
    "First I picked both Streams and Views top 10% which is 90% percentile, then i've counted artist apearance in both subdataframes.\n",
    "Next step was to summarize artist apearance in top10% in streams and views via \"for\" cycle and dicitonary (maybe there was an easier way but i have no time for optimizing this code) \n",
    "Then i converted this dictionary to pd.dataframe for easier search of dictionary key for maximum value"
   ]
  },
  {
   "cell_type": "code",
   "execution_count": 27,
   "metadata": {
    "collapsed": false
   },
   "outputs": [
    {
     "name": "stdout",
     "output_type": "stream",
     "text": [
      "most common top 10% streams and views artist is Dua Lipa\n"
     ]
    }
   ],
   "source": [
    "sub_df1 = df.loc[df['Stream'] >= df['Stream'].quantile(0.9)] #top 10% streams\n",
    "sub_df2 = df.loc[df['Views'] >= df['Views'].quantile(0.9)] #top 10% views\n",
    "streams = sub_df1.value_counts('Artist') ## each artist apeareance in \n",
    "views = sub_df2.value_counts('Artist')   ## top 10% of views and streams\n",
    "a = {}\n",
    "for i in streams.index:     # cycle that sumarizes views and streams in form of dictionary -> {\"Artist\" : apearance in top10% count}\n",
    "    if i in views.index:\n",
    "        a[i] = streams[i] + views[i]\n",
    "a =pd.DataFrame.from_dict(a, orient='index') # dict to dataframe convert\n",
    "print('most common top 10% streams and views artist is',a.idxmax()[0]) #print id(Artist) whose songs get to top10% views and streams more often"
   ]
  },
  {
   "attachments": {},
   "cell_type": "markdown",
   "metadata": {
    "collapsed": false
   },
   "source": [
    "#### 22. Какова корреляция между «energy» песни и ее «loudness»?"
   ]
  },
  {
   "attachments": {},
   "cell_type": "markdown",
   "metadata": {},
   "source": [
    "Correlation is positive and pretty significant"
   ]
  },
  {
   "cell_type": "code",
   "execution_count": 243,
   "metadata": {
    "collapsed": false
   },
   "outputs": [
    {
     "data": {
      "text/plain": [
       "0.744844555552846"
      ]
     },
     "execution_count": 243,
     "metadata": {},
     "output_type": "execute_result"
    }
   ],
   "source": [
    "df['Energy'].corr(df['Loudness'])"
   ]
  },
  {
   "attachments": {},
   "cell_type": "markdown",
   "metadata": {
    "collapsed": false
   },
   "source": [
    "#### 23. Каково среднее количество лайков на YouTube для песен, которые находятся в верхнем квартиле (25%) и как это соотносится с общим средним показателем?"
   ]
  },
  {
   "attachments": {},
   "cell_type": "markdown",
   "metadata": {},
   "source": [
    "Upper quartile Tracks have 3.5 times more likes than average Track"
   ]
  },
  {
   "cell_type": "code",
   "execution_count": 29,
   "metadata": {
    "collapsed": false
   },
   "outputs": [
    {
     "name": "stdout",
     "output_type": "stream",
     "text": [
      "Average likes at upper quartile 2307317.6901883055 \n",
      "Average likes 663341.0613074292\n"
     ]
    },
    {
     "data": {
      "text/plain": [
       "3.4783278539106837"
      ]
     },
     "execution_count": 29,
     "metadata": {},
     "output_type": "execute_result"
    }
   ],
   "source": [
    "sub_df = df.loc[df['Likes'] >= df['Likes'].quantile(0.75)]\n",
    "u25 = sub_df['Likes'].mean()\n",
    "t_l = df['Likes'].mean()\n",
    "print('Average likes at upper quartile', u25 ,'\\nAverage likes', t_l)\n",
    "u25/t_l\n"
   ]
  },
  {
   "attachments": {},
   "cell_type": "markdown",
   "metadata": {
    "collapsed": false
   },
   "source": [
    "#### 24. Есть ли существенная разница в средней «valence» метрикой для песен, выпущенных как синглы, по сравнению с песнями, выпущенными в виде альбома?"
   ]
  },
  {
   "attachments": {},
   "cell_type": "markdown",
   "metadata": {},
   "source": [
    "There is no significant difference"
   ]
  },
  {
   "cell_type": "code",
   "execution_count": 242,
   "metadata": {
    "collapsed": false
   },
   "outputs": [
    {
     "name": "stdout",
     "output_type": "stream",
     "text": [
      "album = 0.5314326929287733\n",
      "compilation = 0.5362851017441861\n",
      "single = 0.5281763406584561\n"
     ]
    }
   ],
   "source": [
    "sub_df = df.pivot_table('Valence', 'Album_type', 'Track').T\n",
    "for i in sub_df.columns:\n",
    "    print(i+' =',sub_df[i].mean(skipna=True))"
   ]
  },
  {
   "attachments": {},
   "cell_type": "markdown",
   "metadata": {
    "collapsed": false
   },
   "source": [
    "#### 25. Каково среднее количество «комментариев» на YouTube для песен с показателем «speechiness» выше 0,66 (что указывает на большое количество произнесенных слов) и как это соотносится с общим средним показателем?"
   ]
  },
  {
   "attachments": {},
   "cell_type": "markdown",
   "metadata": {},
   "source": [
    "Much less YouTube comments to songs which speechiness is more than 0.66. I assume it is due to the fact, that a lot of high speechiness traks are audiobooks.\n",
    "Maybe this could be more representative if we'll look at speechiness > 0.66 only for popular tracks"
   ]
  },
  {
   "cell_type": "code",
   "execution_count": 238,
   "metadata": {
    "collapsed": false
   },
   "outputs": [
    {
     "name": "stdout",
     "output_type": "stream",
     "text": [
      "334.60550458715596\n",
      "27518.993696957667\n"
     ]
    }
   ],
   "source": [
    "sub_df = df.loc[df['Speechiness'] > 0.66]\n",
    "print(sub_df['Comments'].mean())\n",
    "print(df['Comments'].mean())"
   ]
  }
 ],
 "metadata": {
  "kernelspec": {
   "display_name": "Python 3",
   "language": "python",
   "name": "python3"
  },
  "language_info": {
   "codemirror_mode": {
    "name": "ipython",
    "version": 3
   },
   "file_extension": ".py",
   "mimetype": "text/x-python",
   "name": "python",
   "nbconvert_exporter": "python",
   "pygments_lexer": "ipython3",
   "version": "3.10.6"
  }
 },
 "nbformat": 4,
 "nbformat_minor": 0
}
